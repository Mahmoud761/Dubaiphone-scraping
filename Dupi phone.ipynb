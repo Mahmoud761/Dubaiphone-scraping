{
 "cells": [
  {
   "cell_type": "code",
   "execution_count": 20,
   "id": "f31d43d3-b0bb-475d-ac6d-03bb56aa786e",
   "metadata": {},
   "outputs": [
    {
     "name": "stdout",
     "output_type": "stream",
     "text": [
      "page switch\n",
      "page switch\n",
      "page switch\n",
      "page switch\n",
      "page switch\n",
      "page switch\n",
      "page switch\n",
      "page switch\n",
      "page ended\n"
     ]
    }
   ],
   "source": [
    "import requests\n",
    "from bs4 import BeautifulSoup\n",
    "import csv\n",
    "from itertools import zip_longest\n",
    "\n",
    "categores = []\n",
    "price = []\n",
    "old_price = []\n",
    "links = []\n",
    "page_num = 0\n",
    "\n",
    "while True:\n",
    "        \n",
    "    page = requests.get(f\"https://www.dubaiphone.net/category/mobiles-all-2/page/{page_num}/\")\n",
    "    scr = page.content\n",
    "    soup = BeautifulSoup(scr, \"lxml\")\n",
    "\n",
    "    \n",
    "    page_limit = soup.find_all(\"p\",{\"class\":\"dp-number-of-items self-center text-[#989898] text-[14px] font-normal leading-5 tracking-[0.25px] woocommerce-result-count\"})[-1].get_text(strip = True)\n",
    "    page_limit_number = int(page_limit.split(\"of\")[-1].split(\"results\")[0].strip())\n",
    "    if page_num > (page_limit_number // 12):\n",
    "        print(\"page ended\")\n",
    "        break\n",
    "\n",
    "        \n",
    "        \n",
    "\n",
    "\n",
    "    \n",
    "    categores_a = soup.find_all(\"a\",{\"class\":\"text-black text-[12px] md:text-[14px] font-semibold leading-4 md:leading-6 line-clamp-2\"})\n",
    "    price_span = soup.find_all(\"span\",{\"class\":\"highlight\"}) \n",
    "    oldprice_span = soup.find_all(\"s\",{\"class\":\"text-[#B1B1B1] text-[10px] md:text-[14px] font-semibold price-before\"})\n",
    "    div_class = soup.find_all(\"div\",{\"class\":\"w-full flex flex-col items-start justify-start gap-2 px-4 md:px-6 py-3  flex-grow \"})\n",
    "    \n",
    "    for i in range(len(categores_a)):\n",
    "        categores.append(categores_a[i].get_text(strip = True))\n",
    "        price.append(price_span[i].get_text(strip = True))\n",
    "        old_price.append(oldprice_span[i].get_text(strip = True))\n",
    "        \n",
    "        \n",
    "    \n",
    "    \n",
    "    page_num += 1\n",
    "    print(\"page switch\")\n",
    "        \n",
    "\n",
    "file_list = [categores, price, old_price]\n",
    "exp =zip_longest(*file_list)\n",
    "\n",
    "with open(\"D:\\Study\\web scraping\\dubai_phone.csv\",\"w\", newline='', encoding='utf-8-sig') as dubai:\n",
    "    wr = csv.writer(dubai)\n",
    "    wr.writerow([\"categores\",\"price\",\"old_price\"])\n",
    "    wr.writerows(exp)\n",
    "\n",
    "\n",
    "\n",
    "\n",
    "\n"
   ]
  },
  {
   "cell_type": "code",
   "execution_count": 24,
   "id": "66addd72-75b3-4227-af18-534a573fae6c",
   "metadata": {},
   "outputs": [
    {
     "name": "stdout",
     "output_type": "stream",
     "text": [
      "[None, None, None, None, None]\n"
     ]
    }
   ],
   "source": [
    "\n"
   ]
  },
  {
   "cell_type": "code",
   "execution_count": 46,
   "id": "47b71b12-dd8d-4a12-8230-160f18070b89",
   "metadata": {},
   "outputs": [
    {
     "name": "stdout",
     "output_type": "stream",
     "text": [
      "tel:15254\n"
     ]
    }
   ],
   "source": []
  },
  {
   "cell_type": "code",
   "execution_count": null,
   "id": "4b92e9e2-08aa-4176-adb2-fc919877d468",
   "metadata": {},
   "outputs": [],
   "source": []
  },
  {
   "cell_type": "code",
   "execution_count": null,
   "id": "71a76584-7330-4e09-a91f-3ac6606e8e3f",
   "metadata": {},
   "outputs": [],
   "source": []
  }
 ],
 "metadata": {
  "kernelspec": {
   "display_name": "Python [conda env:base] *",
   "language": "python",
   "name": "conda-base-py"
  },
  "language_info": {
   "codemirror_mode": {
    "name": "ipython",
    "version": 3
   },
   "file_extension": ".py",
   "mimetype": "text/x-python",
   "name": "python",
   "nbconvert_exporter": "python",
   "pygments_lexer": "ipython3",
   "version": "3.13.5"
  }
 },
 "nbformat": 4,
 "nbformat_minor": 5
}
